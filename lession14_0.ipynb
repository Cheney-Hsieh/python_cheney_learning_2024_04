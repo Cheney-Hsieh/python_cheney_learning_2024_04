{
 "cells": [
  {
   "cell_type": "code",
   "execution_count": 5,
   "metadata": {},
   "outputs": [
    {
     "name": "stdout",
     "output_type": "stream",
     "text": [
      "(123) 456-7890 格式不符合\n",
      "2024-06-12-格式符合\n"
     ]
    }
   ],
   "source": [
    "import re\n",
    "\n",
    "mobile_number = input('請輸入手機號碼 (xxx) xxx-xxxx:')\n",
    "phoneNumRegex:re.Pattern = re.compile(r'((\\d{3})) (\\d{3})-(\\d{4})')\n",
    "type(phoneNumRegex)\n",
    "match1:re.Match | None = re.match(phoneNumRegex,mobile_number)\n",
    "if match1 is not None:\n",
    "    print(f\"{match1.group()}-格式符合\")\n",
    "else:\n",
    "    print(f\"{mobile_number} 格式不符合\")\n",
    "\n",
    "date_str = input('請輸入有效日期 西元年-月-日: ')\n",
    "pattern = re.compile(r'\\d{4}-(0[1-9]|1[0-2])-(0[1-9]|[12][0-9]|3[01])')\n",
    "match2:re.Match | None = re.match(pattern,date_str)\n",
    "if match2 is not None:\n",
    "    print(f\"{match2.group()}-格式符合\")\n",
    "else:\n",
    "    print(\"格式不符合\")"
   ]
  }
 ],
 "metadata": {
  "kernelspec": {
   "display_name": "Python 3",
   "language": "python",
   "name": "python3"
  },
  "language_info": {
   "codemirror_mode": {
    "name": "ipython",
    "version": 3
   },
   "file_extension": ".py",
   "mimetype": "text/x-python",
   "name": "python",
   "nbconvert_exporter": "python",
   "pygments_lexer": "ipython3",
   "version": "3.10.14"
  }
 },
 "nbformat": 4,
 "nbformat_minor": 2
}
