{
 "cells": [
  {
   "cell_type": "code",
   "execution_count": 2,
   "metadata": {},
   "outputs": [
    {
     "data": {
      "text/plain": [
       "False"
      ]
     },
     "execution_count": 2,
     "metadata": {},
     "output_type": "execute_result"
    }
   ],
   "source": [
    "5 > 3\n",
    "3 > 5"
   ]
  },
  {
   "cell_type": "code",
   "execution_count": 5,
   "metadata": {},
   "outputs": [
    {
     "data": {
      "text/plain": [
       "False"
      ]
     },
     "execution_count": 5,
     "metadata": {},
     "output_type": "execute_result"
    }
   ],
   "source": [
    "5 == 5\n",
    "5 != 5"
   ]
  },
  {
   "cell_type": "code",
   "execution_count": 9,
   "metadata": {},
   "outputs": [
    {
     "name": "stdout",
     "output_type": "stream",
     "text": [
      "此人大於18歲\n",
      "可以考駕照\n",
      "有投票權\n",
      "程式結束\n"
     ]
    }
   ],
   "source": [
    "age:int = 18\n",
    "\n",
    "if age >= 18:\n",
    "    print(\"此人大於18歲\")\n",
    "    print(\"可以考駕照\")\n",
    "    print(\"有投票權\")\n",
    "print(\"程式結束\")"
   ]
  },
  {
   "cell_type": "code",
   "execution_count": 44,
   "metadata": {},
   "outputs": [
    {
     "name": "stdout",
     "output_type": "stream",
     "text": [
      "學生總分數為 300\n"
     ]
    }
   ],
   "source": [
    "score:int = eval(input(\"請輸入學生分數(最高300分):\"))\n",
    "if score < 300:\n",
    "    is_add:str = input(\"學生是否符合加分條件?(y,n)\")\n",
    "    if is_add == 'y':\n",
    "        score *= 1.05\n",
    "        if score > 300:\n",
    "            score = 300\n",
    "    print(f'學生總分數為 {round(score)}')\n",
    "else:\n",
    "    print(\"輸入的分數不可以超過300分\")"
   ]
  },
  {
   "cell_type": "code",
   "execution_count": 10,
   "metadata": {},
   "outputs": [
    {
     "name": "stdout",
     "output_type": "stream",
     "text": [
      "輸入格式有錯誤\n",
      "應用程式結束\n"
     ]
    }
   ],
   "source": [
    "try:\n",
    "    money:int = int(input(\"Please key in the money:\"))\n",
    "    print(money)\n",
    "except ValueError:\n",
    "    print(\"輸入格式有錯誤\")\n",
    "print(\"應用程式結束\") "
   ]
  },
  {
   "cell_type": "code",
   "execution_count": 11,
   "metadata": {},
   "outputs": [
    {
     "name": "stdout",
     "output_type": "stream",
     "text": [
      "輸入格式有錯誤: invalid literal for int() with base 10: 'asw2324'\n",
      "應用程式結束\n"
     ]
    }
   ],
   "source": [
    "try:\n",
    "    money:int = int(input(\"Please key in the money:\"))\n",
    "    print(money)\n",
    "except Exception as Err: ## 處理任何錯誤 , 輸出錯誤內容\n",
    "    print(f\"輸入格式有錯誤: {Err}\")\n",
    "print(\"應用程式結束\") "
   ]
  }
 ],
 "metadata": {
  "kernelspec": {
   "display_name": "Python 3",
   "language": "python",
   "name": "python3"
  },
  "language_info": {
   "codemirror_mode": {
    "name": "ipython",
    "version": 3
   },
   "file_extension": ".py",
   "mimetype": "text/x-python",
   "name": "python",
   "nbconvert_exporter": "python",
   "pygments_lexer": "ipython3",
   "version": "3.10.14"
  }
 },
 "nbformat": 4,
 "nbformat_minor": 2
}
