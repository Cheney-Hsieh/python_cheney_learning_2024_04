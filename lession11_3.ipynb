{
 "cells": [
  {
   "cell_type": "code",
   "execution_count": 4,
   "metadata": {},
   "outputs": [
    {
     "ename": "NameError",
     "evalue": "name 'field_validator' is not defined",
     "output_type": "error",
     "traceback": [
      "\u001b[0;31m---------------------------------------------------------------------------\u001b[0m",
      "\u001b[0;31mNameError\u001b[0m                                 Traceback (most recent call last)",
      "Cell \u001b[0;32mIn[4], line 3\u001b[0m\n\u001b[1;32m      1\u001b[0m \u001b[38;5;28;01mfrom\u001b[39;00m \u001b[38;5;21;01mpydantic\u001b[39;00m \u001b[38;5;28;01mimport\u001b[39;00m BaseModel,Field\n\u001b[0;32m----> 3\u001b[0m \u001b[38;5;28;01mclass\u001b[39;00m \u001b[38;5;21;01mSite\u001b[39;00m(BaseModel):\n\u001b[1;32m      4\u001b[0m     site_name:\u001b[38;5;28mstr\u001b[39m\u001b[38;5;241m=\u001b[39m Field(alias \u001b[38;5;241m=\u001b[39m \u001b[38;5;124m\"\u001b[39m\u001b[38;5;124msitename\u001b[39m\u001b[38;5;124m\"\u001b[39m)\n\u001b[1;32m      5\u001b[0m     county:\u001b[38;5;28mstr\u001b[39m\n",
      "Cell \u001b[0;32mIn[4], line 10\u001b[0m, in \u001b[0;36mSite\u001b[0;34m()\u001b[0m\n\u001b[1;32m      7\u001b[0m status:\u001b[38;5;28mstr\u001b[39m\n\u001b[1;32m      8\u001b[0m pm25:\u001b[38;5;28mfloat\u001b[39m \u001b[38;5;241m=\u001b[39m Field(alias \u001b[38;5;241m=\u001b[39m \u001b[38;5;124m\"\u001b[39m\u001b[38;5;124mpm2.5\u001b[39m\u001b[38;5;124m\"\u001b[39m)\n\u001b[0;32m---> 10\u001b[0m \u001b[38;5;129m@field_validator\u001b[39m(\u001b[38;5;124m\"\u001b[39m\u001b[38;5;124mpm25\u001b[39m\u001b[38;5;124m\"\u001b[39m,model\u001b[38;5;241m=\u001b[39m\u001b[38;5;124m'\u001b[39m\u001b[38;5;124mbefore\u001b[39m\u001b[38;5;124m'\u001b[39m) \u001b[38;5;66;03m# 換之前要檢查，而且是先做完檢查再轉換\u001b[39;00m\n\u001b[1;32m     11\u001b[0m \u001b[38;5;129m@classmethod\u001b[39m\n\u001b[1;32m     12\u001b[0m \u001b[38;5;28;01mdef\u001b[39;00m \u001b[38;5;21mwhitespace_to_zero\u001b[39m(\u001b[38;5;28mcls\u001b[39m,value:\u001b[38;5;28mstr\u001b[39m)\u001b[38;5;241m-\u001b[39m\u001b[38;5;241m>\u001b[39m\u001b[38;5;28mstr\u001b[39m:\n\u001b[1;32m     13\u001b[0m     \u001b[38;5;28;01mif\u001b[39;00m value \u001b[38;5;241m==\u001b[39m \u001b[38;5;124m'\u001b[39m\u001b[38;5;124m'\u001b[39m:\n\u001b[1;32m     14\u001b[0m         \u001b[38;5;28;01mreturn\u001b[39;00m \u001b[38;5;124m'\u001b[39m\u001b[38;5;124m0.0\u001b[39m\u001b[38;5;124m'\u001b[39m\n",
      "\u001b[0;31mNameError\u001b[0m: name 'field_validator' is not defined"
     ]
    }
   ],
   "source": [
    "from pydantic import BaseModel,Field\n",
    "\n",
    "class Site(BaseModel):\n",
    "    site_name:str= Field(alias = \"sitename\")\n",
    "    county:str\n",
    "    aqi:int\n",
    "    status:str\n",
    "    pm25:float = Field(alias = \"pm2.5\")\n",
    "\n",
    "    @field_validator(\"pm25\",model='before') # 換之前要檢查，而且是先做完檢查再轉換\n",
    "    @classmethod\n",
    "    def whitespace_to_zero(cls,value:str)->str:\n",
    "        if value == '':\n",
    "            return '0.0'\n",
    "        else:\n",
    "            return value   \n",
    "            \n",
    "class AQI(BaseModel):\n",
    "    records:list[Site]\n",
    "\n",
    "with open('aqx_p_488.json',encoding='utf-8') as file:\n",
    "    aqi:AQI = AQI.model_validate_json(file.read())\n",
    "\n",
    "##data_list:list[Site] = aqi.records\n",
    "aqi.model_dump()\n",
    "##for item in aqi.records:\n",
    "##    print(item)"
   ]
  }
 ],
 "metadata": {
  "kernelspec": {
   "display_name": "Python 3",
   "language": "python",
   "name": "python3"
  },
  "language_info": {
   "codemirror_mode": {
    "name": "ipython",
    "version": 3
   },
   "file_extension": ".py",
   "mimetype": "text/x-python",
   "name": "python",
   "nbconvert_exporter": "python",
   "pygments_lexer": "ipython3",
   "version": "3.10.14"
  }
 },
 "nbformat": 4,
 "nbformat_minor": 2
}
