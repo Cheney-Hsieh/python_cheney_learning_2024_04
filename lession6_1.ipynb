{
 "cells": [
  {
   "cell_type": "code",
   "execution_count": 9,
   "metadata": {},
   "outputs": [
    {
     "name": "stdout",
     "output_type": "stream",
     "text": [
      "資料錯誤，分數必須小於３００分\n"
     ]
    }
   ],
   "source": [
    "try:\n",
    "    scores = int(input(\"請輸入學生的分數(最高300分):\"))\n",
    "    if scores > 300:\n",
    "        raise ValueError(\"分數必須小於３００分\")\n",
    "    elif scores >= 220:\n",
    "        print(\"優\")\n",
    "    elif scores >= 180:\n",
    "        print(\"甲\")\n",
    "    else:\n",
    "        print(\"不及格\")\n",
    "except ValueError as Err:\n",
    "    print(f\"資料錯誤，{Err}\")"
   ]
  },
  {
   "cell_type": "code",
   "execution_count": 22,
   "metadata": {},
   "outputs": [
    {
     "name": "stdout",
     "output_type": "stream",
     "text": [
      "格式錯誤, 分數必須小於１００分\n"
     ]
    }
   ],
   "source": [
    "try:\n",
    "    scores = int(input(\"請輸入學生的分數(最高100分):\"))\n",
    "    if scores > 100:\n",
    "        raise ValueError(\"分數必須小於１００分\")\n",
    "    elif scores >= 90:\n",
    "        print(\"優\")\n",
    "    elif scores >= 80:\n",
    "        print(\"甲\")\n",
    "    elif scores >= 70:\n",
    "        print(\"乙\") \n",
    "    elif scores >= 60:\n",
    "        print(\"丙\")       \n",
    "    else:\n",
    "        print(\"丁\")\n",
    "except Exception as e:\n",
    "    print(f\"格式錯誤, {e}\")        \n",
    "except ValueError as Err:\n",
    "    print(f\"資料錯誤，{Err}\")\n",
    "    \n",
    "## except StopIteration    "
   ]
  }
 ],
 "metadata": {
  "kernelspec": {
   "display_name": "Python 3",
   "language": "python",
   "name": "python3"
  },
  "language_info": {
   "codemirror_mode": {
    "name": "ipython",
    "version": 3
   },
   "file_extension": ".py",
   "mimetype": "text/x-python",
   "name": "python",
   "nbconvert_exporter": "python",
   "pygments_lexer": "ipython3",
   "version": "3.10.14"
  }
 },
 "nbformat": 4,
 "nbformat_minor": 2
}
