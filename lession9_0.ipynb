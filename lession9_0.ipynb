{
 "cells": [
  {
   "cell_type": "code",
   "execution_count": 2,
   "metadata": {},
   "outputs": [
    {
     "name": "stdout",
     "output_type": "stream",
     "text": [
      "請輸入姓名:cheney\n",
      "請輸入身高(120~230)(cm):170.0\n",
      "請輸入體重(40~170)(kg):72.0\n",
      "cheney, 您的BMI: 24.91 , 你目前體重過重\n"
     ]
    }
   ],
   "source": [
    "import pyinputplus as pyip\n",
    "\n",
    "def cal_bmi(height:float|int,weight:float|int)->float:                   \n",
    "        bmi = weight / (height / 100) ** 2\n",
    "        return round(bmi,ndigits=2)\n",
    "\n",
    "\n",
    "def get_status(bmi:float|int)->str:\n",
    "        if bmi < 18.5:\n",
    "            return(\"體重過輕\")\n",
    "        elif bmi <24:\n",
    "            return(\"體重正常\")\n",
    "        elif bmi < 27:\n",
    "            return(\"體重過重\")\n",
    "        elif bmi < 30:\n",
    "            return(\"輕度肥胖\")    \n",
    "        elif bmi < 35:\n",
    "            return(\"中度肥胖\") \n",
    "        elif bmi >=35 :\n",
    "            return(\"重度肥胖\")\n",
    "        \n",
    "name =  pyip.inputStr(\"請輸入姓名:\");print(name)\n",
    "h_val= pyip.inputFloat('請輸入身高(120~230)(cm):',lessThan=230,greaterThan=120);print(h_val)\n",
    "w_val = pyip.inputFloat('請輸入體重(40~170)(kg):',lessThan=170,greaterThan=40);print(w_val)\n",
    "cur_bmi=cal_bmi(weight = w_val, height=h_val )\n",
    "cur_state = get_status(cur_bmi)\n",
    "\n",
    "print(f'{name}, 您的BMI: {cur_bmi} , 你目前{cur_state}')"
   ]
  },
  {
   "cell_type": "code",
   "execution_count": null,
   "metadata": {},
   "outputs": [],
   "source": []
  }
 ],
 "metadata": {
  "kernelspec": {
   "display_name": "Python 3",
   "language": "python",
   "name": "python3"
  },
  "language_info": {
   "codemirror_mode": {
    "name": "ipython",
    "version": 3
   },
   "file_extension": ".py",
   "mimetype": "text/x-python",
   "name": "python",
   "nbconvert_exporter": "python",
   "pygments_lexer": "ipython3",
   "version": "3.10.14"
  }
 },
 "nbformat": 4,
 "nbformat_minor": 2
}
