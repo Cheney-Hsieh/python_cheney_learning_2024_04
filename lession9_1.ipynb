{
 "cells": [
  {
   "cell_type": "code",
   "execution_count": 2,
   "metadata": {},
   "outputs": [
    {
     "name": "stdout",
     "output_type": "stream",
     "text": [
      "<class 'int'>\n"
     ]
    }
   ],
   "source": [
    "n = 10\n",
    "print(type(n))"
   ]
  },
  {
   "cell_type": "code",
   "execution_count": 4,
   "metadata": {},
   "outputs": [
    {
     "data": {
      "text/plain": [
       "__main__.Person"
      ]
     },
     "execution_count": 4,
     "metadata": {},
     "output_type": "execute_result"
    }
   ],
   "source": [
    "# 自訂類別\n",
    "class Person:\n",
    "    pass\n",
    "\n",
    "p1 = Person()\n",
    "type(p1)\n"
   ]
  },
  {
   "cell_type": "code",
   "execution_count": 32,
   "metadata": {},
   "outputs": [
    {
     "name": "stdout",
     "output_type": "stream",
     "text": [
      "我是Person的實體，我的名字是John\n",
      "160\n",
      "John\n",
      "male\n",
      "Mary\n",
      "我是Person的實體，我的名字是Mary\n"
     ]
    }
   ],
   "source": [
    "## 自訂的ｉｎｉｔ\n",
    "##　自訂的　ｒｅｐｒ\n",
    "##　自訂的attribute name\n",
    "class Person:\n",
    "    def __init__(self,n:str = 'Cheney',k:str='male',l:float=50,m:float=72,x:float=168):\n",
    "        super().__init__() ## Call Father init func\n",
    "        self.name = n\n",
    "        self.gender = k\n",
    "        self.age:float = l\n",
    "        self.weight:float = m\n",
    "        self.height:float = x\n",
    "    def __repr__(self):\n",
    "        return f'我是Person的實體，我的名字是{self.name}'\n",
    "            \n",
    "\n",
    "p1 = Person('John',m=160)\n",
    "p2 = Person('Mary','female')\n",
    "print(p1)\n",
    "print(p1.weight)\n",
    "print(p1.name)\n",
    "print(p1.gender)\n",
    "\n",
    "print(p2.name) \n",
    "print(p2)       "
   ]
  },
  {
   "cell_type": "code",
   "execution_count": 59,
   "metadata": {},
   "outputs": [
    {
     "name": "stdout",
     "output_type": "stream",
     "text": [
      "我是Person的實體,我的名字是Hank,我的總分是270\n",
      "Hank 270 female 32 8 132\n"
     ]
    }
   ],
   "source": [
    "class Person:\n",
    "    def __init__(self,n:str = 'Cheney',k:str='male',l:float=50,m:float=72,x:float=168):\n",
    "        super().__init__() ## Call Father init func\n",
    "        self.name = n\n",
    "        self.gender = k\n",
    "        self.age:float = l\n",
    "        self.weight:float = m\n",
    "        self.height:float = x\n",
    "    def __repr__(self):\n",
    "        return f'我是Person的實體,我的名字是{self.name}'\n",
    "\n",
    "class Student(Person):\n",
    "    def __init__(self,n:str=0,s:int=0,k:str='male',l:float=9,m:float=32,x:float=132):\n",
    "        super().__init__(n,k,l,m,x)\n",
    "        self.score= s\n",
    "    def __repr__(self):\n",
    "        before= super().__repr__()\n",
    "        return f'{before},我的總分是{self.score}' \n",
    "    \n",
    "    \n",
    "s1 = Student('Hank',270,'female',l=8)\n",
    "\n",
    "print(s1)\n",
    "print(s1.name,s1.score,s1.gender,s1.weight,s1.age,s1.height)\n",
    "  "
   ]
  },
  {
   "cell_type": "code",
   "execution_count": 61,
   "metadata": {},
   "outputs": [
    {
     "name": "stdout",
     "output_type": "stream",
     "text": [
      "Henry 0\n",
      "我是Person的實體,我的名字是Henry,我的總分是0\n"
     ]
    }
   ],
   "source": [
    "s2 = Student('Henry')\n",
    "print(s2.name,s2.score)\n",
    "print(s2)\n",
    "\n"
   ]
  }
 ],
 "metadata": {
  "kernelspec": {
   "display_name": "Python 3",
   "language": "python",
   "name": "python3"
  },
  "language_info": {
   "codemirror_mode": {
    "name": "ipython",
    "version": 3
   },
   "file_extension": ".py",
   "mimetype": "text/x-python",
   "name": "python",
   "nbconvert_exporter": "python",
   "pygments_lexer": "ipython3",
   "version": "3.10.14"
  }
 },
 "nbformat": 4,
 "nbformat_minor": 2
}
