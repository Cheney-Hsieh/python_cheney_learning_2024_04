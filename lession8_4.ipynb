{
 "cells": [
  {
   "cell_type": "code",
   "execution_count": 3,
   "metadata": {},
   "outputs": [
    {
     "ename": "SyntaxError",
     "evalue": "invalid syntax (__init__.py, line 1)",
     "output_type": "error",
     "traceback": [
      "Traceback \u001b[0;36m(most recent call last)\u001b[0m:\n",
      "\u001b[0m  File \u001b[1;32m~/.local/lib/python3.10/site-packages/IPython/core/interactiveshell.py:3577\u001b[0m in \u001b[1;35mrun_code\u001b[0m\n    exec(code_obj, self.user_global_ns, self.user_ns)\u001b[0m\n",
      "\u001b[0;36m  Cell \u001b[0;32mIn[3], line 2\u001b[0;36m\n\u001b[0;31m    import pyinputplus as pyip\u001b[0;36m\n",
      "\u001b[0;36m  File \u001b[0;32m~/.local/lib/python3.10/site-packages/pyinputplus/__init__.py:1\u001b[0;36m\u001b[0m\n\u001b[0;31m    4\"\"\"PyInputPlus by Al Sweigart al@inventwithpython.com\u001b[0m\n\u001b[0m     ^\u001b[0m\n\u001b[0;31mSyntaxError\u001b[0m\u001b[0;31m:\u001b[0m invalid syntax\n"
     ]
    }
   ],
   "source": [
    "import random\n",
    "import pyinputplus as pyip\n",
    "\n",
    "def play_game()->None:\n",
    "    min = 1\n",
    "    max = 100\n",
    "    count = 0\n",
    "    target = random.randint(min,max)\n",
    "    print(target)\n",
    "    print(\"=========猜數字遊戲============\\n\")\n",
    "    while True:\n",
    "        count += 1\n",
    "        keyin = pyip.inputInt(f\"猜數字的範圍{min}~{max}:\")\n",
    "        print(keyin)\n",
    "        if keyin == target:\n",
    "            print(f\"賓果!猜對了, 答案是:{target}\")\n",
    "            print(f\"您總共猜了{count}次\")\n",
    "            break\n",
    "        elif(keyin > target):        \n",
    "            print(\"再小一點\")\n",
    "            max = keyin-1        \n",
    "        elif(keyin < target):\n",
    "            print(\"再大一點\")\n",
    "            min = keyin + 1\n",
    "        print(f'您已經猜了{count}次')\n",
    "\n",
    "while True:\n",
    "    play_game()   \n",
    "    play_again = pyip.inputYesNo(\"還要繼續嗎?(y,n)\")\n",
    "    if play_again == 'no':\n",
    "        break\n",
    "\n",
    "print(\"遊戲結束\")\n"
   ]
  }
 ],
 "metadata": {
  "kernelspec": {
   "display_name": "Python 3",
   "language": "python",
   "name": "python3"
  },
  "language_info": {
   "codemirror_mode": {
    "name": "ipython",
    "version": 3
   },
   "file_extension": ".py",
   "mimetype": "text/x-python",
   "name": "python",
   "nbconvert_exporter": "python",
   "pygments_lexer": "ipython3",
   "version": "3.10.14"
  }
 },
 "nbformat": 4,
 "nbformat_minor": 2
}
