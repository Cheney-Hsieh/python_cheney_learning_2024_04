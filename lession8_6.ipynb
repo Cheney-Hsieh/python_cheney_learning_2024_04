{
 "cells": [
  {
   "cell_type": "code",
   "execution_count": 2,
   "metadata": {},
   "outputs": [
    {
     "name": "stdout",
     "output_type": "stream",
     "text": [
      "主餐:牛排\n",
      "酒類:白酒\n",
      "甜點:蛋糕\n",
      "主餐:牛排\n",
      "酒類:紅酒\n",
      "甜點:冰淇淋\n"
     ]
    }
   ],
   "source": [
    "def menu(wine:str,entree:str,dessert:str)->None:\n",
    "    print(f\"主餐:{entree}\")\n",
    "    print(f\"酒類:{wine}\")\n",
    "    print(f\"甜點:{dessert}\")\n",
    "\n",
    "menu('白酒','牛排','蛋糕')\n",
    "menu('紅酒','牛排','冰淇淋')"
   ]
  },
  {
   "cell_type": "code",
   "execution_count": 3,
   "metadata": {},
   "outputs": [
    {
     "name": "stdout",
     "output_type": "stream",
     "text": [
      "主餐:炒飯\n",
      "酒類:高粱酒\n",
      "甜點:巧克力\n"
     ]
    }
   ],
   "source": [
    "def menu(wine:str,entree:str,dessert:str)->None:\n",
    "    print(f\"主餐:{entree}\")\n",
    "    print(f\"酒類:{wine}\")\n",
    "    print(f\"甜點:{dessert}\")\n",
    "\n",
    "### menu('白酒','牛排','蛋糕')\n",
    "### menu('紅酒','牛排','冰淇淋')\n",
    "menu(dessert = '巧克力',wine= '高粱酒', entree = '炒飯')\n"
   ]
  },
  {
   "cell_type": "code",
   "execution_count": 5,
   "metadata": {},
   "outputs": [
    {
     "name": "stdout",
     "output_type": "stream",
     "text": [
      "主餐:義大利麵\n",
      "酒類:葡萄酒\n",
      "甜點:布丁\n",
      "================================\n",
      "主餐:義大利麵\n",
      "酒類:葡萄酒\n",
      "甜點:布丁\n"
     ]
    }
   ],
   "source": [
    "def menu(wine:str,entree:str,dessert:str)->None:\n",
    "    print(f\"主餐:{entree}\")\n",
    "    print(f\"酒類:{wine}\")\n",
    "    print(f\"甜點:{dessert}\")\n",
    "\n",
    "menu('葡萄酒',dessert = '布丁',entree='義大利麵')\n",
    "print('================================')\n",
    "menu('葡萄酒','義大利麵',dessert='布丁')"
   ]
  },
  {
   "cell_type": "code",
   "execution_count": 2,
   "metadata": {},
   "outputs": [
    {
     "name": "stdout",
     "output_type": "stream",
     "text": [
      "主餐:牛排\n",
      "酒類:啤酒\n",
      "甜點:奶昔\n",
      "===========================================\n",
      "主餐:雞排\n",
      "酒類:紅酒\n",
      "甜點:奶昔\n",
      "===========================================\n",
      "主餐:豬排\n",
      "酒類:茅台\n",
      "甜點:奶昔\n",
      "===========================================\n",
      "主餐:炒飯\n",
      "酒類:茅台\n",
      "甜點:布丁\n"
     ]
    }
   ],
   "source": [
    "def menu(wine:str='啤酒',entree:str='牛排',dessert:str = '奶昔')->None:\n",
    "    print(f\"主餐:{entree}\")\n",
    "    print(f\"酒類:{wine}\")\n",
    "    print(f\"甜點:{dessert}\")\n",
    "\n",
    "menu()\n",
    "print('===========================================')\n",
    "menu('紅酒','雞排')\n",
    "print('===========================================')\n",
    "menu(entree = '豬排',wine='茅台')\n",
    "print('===========================================')\n",
    "menu('茅台','炒飯',dessert='布丁')\n"
   ]
  },
  {
   "cell_type": "code",
   "execution_count": 3,
   "metadata": {},
   "outputs": [
    {
     "name": "stdout",
     "output_type": "stream",
     "text": [
      "('茅台',)\n",
      "()\n",
      "('茅台', '豬排', '布丁')\n"
     ]
    }
   ],
   "source": [
    "def menu(*kind:str)->None:\n",
    "    print(kind)\n",
    "\n",
    "menu('茅台')\n",
    "menu()\n",
    "menu('茅台','豬排','布丁')"
   ]
  },
  {
   "cell_type": "code",
   "execution_count": 4,
   "metadata": {},
   "outputs": [
    {
     "name": "stdout",
     "output_type": "stream",
     "text": [
      "{'wine': '茅台'}\n",
      "{}\n",
      "{'wine': '茅台', 'entree': '豬排', 'dessert': '布丁'}\n"
     ]
    }
   ],
   "source": [
    "def menu(**kind:str)->None:\n",
    "    print(kind)\n",
    "\n",
    "menu(wine = '茅台')\n",
    "menu()\n",
    "menu(wine ='茅台',entree = '豬排',dessert= '布丁')"
   ]
  },
  {
   "cell_type": "code",
   "execution_count": 20,
   "metadata": {},
   "outputs": [
    {
     "name": "stdout",
     "output_type": "stream",
     "text": [
      "主餐:牛排\n"
     ]
    },
    {
     "ename": "NameError",
     "evalue": "name 'wine' is not defined",
     "output_type": "error",
     "traceback": [
      "\u001b[0;31m---------------------------------------------------------------------------\u001b[0m",
      "\u001b[0;31mNameError\u001b[0m                                 Traceback (most recent call last)",
      "Cell \u001b[0;32mIn[20], line 6\u001b[0m\n\u001b[1;32m      3\u001b[0m     \u001b[38;5;28mprint\u001b[39m(\u001b[38;5;124mf\u001b[39m\u001b[38;5;124m\"\u001b[39m\u001b[38;5;124m酒類:\u001b[39m\u001b[38;5;132;01m{\u001b[39;00mwine\u001b[38;5;132;01m}\u001b[39;00m\u001b[38;5;124m\"\u001b[39m)\n\u001b[1;32m      4\u001b[0m     \u001b[38;5;28mprint\u001b[39m(\u001b[38;5;124mf\u001b[39m\u001b[38;5;124m\"\u001b[39m\u001b[38;5;124m甜點:\u001b[39m\u001b[38;5;132;01m{\u001b[39;00mdessert\u001b[38;5;132;01m}\u001b[39;00m\u001b[38;5;124m\"\u001b[39m)\n\u001b[0;32m----> 6\u001b[0m \u001b[43mmenu\u001b[49m\u001b[43m(\u001b[49m\u001b[43mentree\u001b[49m\u001b[43m \u001b[49m\u001b[38;5;241;43m=\u001b[39;49m\u001b[43m \u001b[49m\u001b[38;5;124;43m'\u001b[39;49m\u001b[38;5;124;43m牛排\u001b[39;49m\u001b[38;5;124;43m'\u001b[39;49m\u001b[43m)\u001b[49m\n",
      "Cell \u001b[0;32mIn[20], line 3\u001b[0m, in \u001b[0;36mmenu\u001b[0;34m(str, entree, dessert, *kind)\u001b[0m\n\u001b[1;32m      1\u001b[0m \u001b[38;5;28;01mdef\u001b[39;00m \u001b[38;5;21mmenu\u001b[39m(\u001b[38;5;241m*\u001b[39mkind,\u001b[38;5;28mstr\u001b[39m\u001b[38;5;241m=\u001b[39m\u001b[38;5;124m'\u001b[39m\u001b[38;5;124m啤酒\u001b[39m\u001b[38;5;124m'\u001b[39m,entree:\u001b[38;5;28mstr\u001b[39m\u001b[38;5;241m=\u001b[39m\u001b[38;5;124m'\u001b[39m\u001b[38;5;124m牛排\u001b[39m\u001b[38;5;124m'\u001b[39m,dessert:\u001b[38;5;28mstr\u001b[39m \u001b[38;5;241m=\u001b[39m \u001b[38;5;124m'\u001b[39m\u001b[38;5;124m奶昔\u001b[39m\u001b[38;5;124m'\u001b[39m)\u001b[38;5;241m-\u001b[39m\u001b[38;5;241m>\u001b[39m\u001b[38;5;28;01mNone\u001b[39;00m:\n\u001b[1;32m      2\u001b[0m     \u001b[38;5;28mprint\u001b[39m(\u001b[38;5;124mf\u001b[39m\u001b[38;5;124m\"\u001b[39m\u001b[38;5;124m主餐:\u001b[39m\u001b[38;5;132;01m{\u001b[39;00mentree\u001b[38;5;132;01m}\u001b[39;00m\u001b[38;5;124m\"\u001b[39m)\n\u001b[0;32m----> 3\u001b[0m     \u001b[38;5;28mprint\u001b[39m(\u001b[38;5;124mf\u001b[39m\u001b[38;5;124m\"\u001b[39m\u001b[38;5;124m酒類:\u001b[39m\u001b[38;5;132;01m{\u001b[39;00m\u001b[43mwine\u001b[49m\u001b[38;5;132;01m}\u001b[39;00m\u001b[38;5;124m\"\u001b[39m)\n\u001b[1;32m      4\u001b[0m     \u001b[38;5;28mprint\u001b[39m(\u001b[38;5;124mf\u001b[39m\u001b[38;5;124m\"\u001b[39m\u001b[38;5;124m甜點:\u001b[39m\u001b[38;5;132;01m{\u001b[39;00mdessert\u001b[38;5;132;01m}\u001b[39;00m\u001b[38;5;124m\"\u001b[39m)\n",
      "\u001b[0;31mNameError\u001b[0m: name 'wine' is not defined"
     ]
    }
   ],
   "source": [
    "def menu(*kind,str='啤酒',entree:str='牛排',dessert:str = '奶昔')->None:\n",
    "    print(f\"主餐:{entree}\")\n",
    "    print(f\"酒類:{wine}\")\n",
    "    print(f\"甜點:{dessert}\")\n",
    "\n",
    "menu(entree = '牛排')"
   ]
  },
  {
   "cell_type": "code",
   "execution_count": 14,
   "metadata": {},
   "outputs": [
    {
     "name": "stdout",
     "output_type": "stream",
     "text": [
      "(1, 2, 3, 4, 5, 6, 7, 'a', 'b', 'c')\n",
      "{'one': 1, 'two': 2, 'three': 3, 'k': 'aas'}\n"
     ]
    }
   ],
   "source": [
    "def menu(*args:str,**kwargs:str)->None:\n",
    "    print(args)\n",
    "    print(kwargs)\n",
    "    \n",
    "\n",
    "# menu(1,2,3,4,5,6,7)\n",
    "menu(1,2,3,4,5,6,7,'a','b','c',one=1,two=2,three=3,k='aas')"
   ]
  },
  {
   "cell_type": "code",
   "execution_count": 1,
   "metadata": {},
   "outputs": [
    {
     "name": "stdout",
     "output_type": "stream",
     "text": [
      "(1, 2, 3, 5, 4)\n",
      "{'one': 1, 'two': 2, 'three': 3}\n"
     ]
    }
   ],
   "source": [
    "def menu(*args:str,**kwargs:str)->None:\n",
    "    print(args)\n",
    "    print(kwargs)\n",
    "\n",
    "menu(1,2,3,5,4,one=1,two=2,three=3)"
   ]
  },
  {
   "cell_type": "code",
   "execution_count": 4,
   "metadata": {},
   "outputs": [
    {
     "name": "stdout",
     "output_type": "stream",
     "text": [
      "1,2,4,8,9\n"
     ]
    }
   ],
   "source": [
    "print(1, 2, 4, 8, 9,sep=',')"
   ]
  }
 ],
 "metadata": {
  "kernelspec": {
   "display_name": "Python 3",
   "language": "python",
   "name": "python3"
  },
  "language_info": {
   "codemirror_mode": {
    "name": "ipython",
    "version": 3
   },
   "file_extension": ".py",
   "mimetype": "text/x-python",
   "name": "python",
   "nbconvert_exporter": "python",
   "pygments_lexer": "ipython3",
   "version": "3.10.14"
  }
 },
 "nbformat": 4,
 "nbformat_minor": 2
}
