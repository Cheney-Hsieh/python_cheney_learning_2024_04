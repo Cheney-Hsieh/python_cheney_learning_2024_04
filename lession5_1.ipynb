{
 "cells": [
  {
   "cell_type": "code",
   "execution_count": 1,
   "metadata": {},
   "outputs": [
    {
     "name": "stdout",
     "output_type": "stream",
     "text": [
      "梯形的上底(公分)是 20 , 梯形的下底(公分) 是 30 , 梯形的高(公分)是 20\n",
      "梯形的面積為 500.0\n"
     ]
    }
   ],
   "source": [
    "import math\n",
    "trap_top = eval(input('請輸入梯形的上底(公分) : '))\n",
    "trap_bottom = eval(input('請輸入梯形的下底(公分) :'))\n",
    "trap_height = eval(input('請輸入梯形的高(公分) : '))\n",
    "trap_area = round(((trap_top + trap_bottom) * trap_height / 2), ndigits=2)\n",
    "\n",
    "print(f'梯形的上底(公分)是 {trap_top} , 梯形的下底(公分) 是 {trap_bottom} , 梯形的高(公分)是 {trap_height}')\n",
    "print(f'梯形的面積為 {trap_area}')"
   ]
  }
 ],
 "metadata": {
  "kernelspec": {
   "display_name": "Python 3",
   "language": "python",
   "name": "python3"
  },
  "language_info": {
   "codemirror_mode": {
    "name": "ipython",
    "version": 3
   },
   "file_extension": ".py",
   "mimetype": "text/x-python",
   "name": "python",
   "nbconvert_exporter": "python",
   "pygments_lexer": "ipython3",
   "version": "3.10.14"
  }
 },
 "nbformat": 4,
 "nbformat_minor": 2
}
