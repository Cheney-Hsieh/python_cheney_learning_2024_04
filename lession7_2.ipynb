{
 "cells": [
  {
   "cell_type": "code",
   "execution_count": 1,
   "metadata": {},
   "outputs": [
    {
     "name": "stdout",
     "output_type": "stream",
     "text": [
      "請輸入第1個月存的金額：$11000\n",
      "請輸入第2個月存的金額：$11000\n",
      "請輸入第3個月存的金額：$10000\n",
      "最後一次存的金額為:$10000\n",
      "小明總共存了 $32000\n"
     ]
    }
   ],
   "source": [
    "import pyinputplus as pyip\n",
    "deposit = 0\n",
    "num = 1\n",
    "while True:\n",
    "    money=pyip.inputInt(f\"請輸入第{num}個月存的金額：\")\n",
    "    print(f\"${money}\")\n",
    "    deposit += money\n",
    "    if deposit >= 30000:\n",
    "        break\n",
    "    num += 1\n",
    "print(f'最後一次存的金額為:${money}')    \n",
    "print(f\"小明總共存了 ${deposit}\")    "
   ]
  },
  {
   "cell_type": "code",
   "execution_count": 7,
   "metadata": {},
   "outputs": [
    {
     "name": "stdout",
     "output_type": "stream",
     "text": [
      "123 的平方為：15129\n",
      "不做任何事\n",
      "不做任何事\n",
      "111 的平方為：12321\n",
      "111 的平方為：12321\n",
      "不做任何事\n",
      "輸入錯誤\n",
      "輸入錯誤\n",
      "輸入錯誤\n",
      "應用程式結束\n"
     ]
    }
   ],
   "source": [
    "## 請輸入整數，按ｑ離開\n",
    "##　奇數輸出平方值\n",
    "##　偶數不做動作\n",
    "##\n",
    "\n",
    "while True:\n",
    "    value = input(\"請輸入整數，輸入[ｑ]離開：\")\n",
    "    if value == 'q':\n",
    "        break\n",
    "    try:\n",
    "        valueInt= int(value)\n",
    "    except Exception as Err:\n",
    "        print(\"輸入錯誤\")\n",
    "        ## break\n",
    "        continue\n",
    "    if valueInt %2 == 1:\n",
    "        print(f\"{value} 的平方為：{valueInt**2}\")\n",
    "    else:\n",
    "        print(\"不做任何事\") \n",
    "print(\"應用程式結束\")"
   ]
  },
  {
   "cell_type": "code",
   "execution_count": 11,
   "metadata": {},
   "outputs": [
    {
     "name": "stdout",
     "output_type": "stream",
     "text": [
      "請輸入整數,求所有因數:10\n",
      "10 的因數是\n",
      "1 2 5 10 "
     ]
    }
   ],
   "source": [
    "## 輸入:\n",
    "## 請輸入整數,求所有因數:10\n",
    "\n",
    "##輸出:\n",
    "##10的因數是:\n",
    "## 1 2 5 10\n",
    "import pyinputplus as pyip\n",
    "\n",
    "value = pyip.inputInt(\"請輸入整數,求所有因數:\",min=1);print(value)\n",
    "print(f\"{value} 的因數是\")\n",
    "for n in range(1,value+1):\n",
    "    if value % n == 0 :\n",
    "        print(n,end=' ')\n"
   ]
  }
 ],
 "metadata": {
  "kernelspec": {
   "display_name": "Python 3",
   "language": "python",
   "name": "python3"
  },
  "language_info": {
   "codemirror_mode": {
    "name": "ipython",
    "version": 3
   },
   "file_extension": ".py",
   "mimetype": "text/x-python",
   "name": "python",
   "nbconvert_exporter": "python",
   "pygments_lexer": "ipython3",
   "version": "3.10.14"
  }
 },
 "nbformat": 4,
 "nbformat_minor": 2
}
