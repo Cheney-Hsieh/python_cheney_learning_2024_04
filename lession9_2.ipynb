{
 "cells": [
  {
   "cell_type": "code",
   "execution_count": 2,
   "metadata": {},
   "outputs": [
    {
     "name": "stdout",
     "output_type": "stream",
     "text": [
      "This is a test Cheney\n",
      "\n",
      "總分為254 ,平均為84.67\n",
      "========================================\n",
      "This is a test Robert\n",
      "\n",
      "總分為241,平均為80.33\n"
     ]
    }
   ],
   "source": [
    "class Student():\n",
    "    def __init__(self,n:str=0,c:int=0,e:int=0,m:int=0):\n",
    "        super().__init__()\n",
    "        self.name = n  # attribute\n",
    "        self.chinese = c # attribute\n",
    "        self.english = e # attribute\n",
    "        self.math = m\n",
    "    def __repr__(self):\n",
    "        super().__repr__()\n",
    "        message = f\"你的姓名是:{self.name}\\n\"\n",
    "        message += f\"國文:{self.chinese}\\n\"\n",
    "        message += f\"英文:{self.english}\\n\"\n",
    "        message += f\"數學:{self.math}\\n\"\n",
    "        return message\n",
    "    def __str__(self):\n",
    "        return f\"This is a test {self.name}\\n\"    \n",
    "    @property   # 只能讀取不能寫入的屬性 , 關鍵字一定要加\n",
    "    def sum(self):\n",
    "        return self.chinese + self.english + self.math\n",
    "    \n",
    "    ## instance method , 不需要傳入值\n",
    "    def average(self)->float:\n",
    "        return self.sum / 3\n",
    "        \n",
    "s1 = Student('Cheney',86,92,76)\n",
    "print(s1)\n",
    "s1\n",
    "print(f'總分為{s1.sum} ,平均為{s1.average():.2f}')\n",
    "s2 = Student('Robert',98,76,67)\n",
    "print('========================================')\n",
    "print(s2)\n",
    "print(f'總分為{s2.sum},平均為{s2.average():.2f}')\n"
   ]
  }
 ],
 "metadata": {
  "kernelspec": {
   "display_name": "Python 3",
   "language": "python",
   "name": "python3"
  },
  "language_info": {
   "codemirror_mode": {
    "name": "ipython",
    "version": 3
   },
   "file_extension": ".py",
   "mimetype": "text/x-python",
   "name": "python",
   "nbconvert_exporter": "python",
   "pygments_lexer": "ipython3",
   "version": "3.10.14"
  }
 },
 "nbformat": 4,
 "nbformat_minor": 2
}
