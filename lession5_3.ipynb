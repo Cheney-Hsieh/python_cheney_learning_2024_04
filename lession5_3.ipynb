{
 "cells": [
  {
   "cell_type": "code",
   "execution_count": 2,
   "metadata": {},
   "outputs": [
    {
     "name": "stdout",
     "output_type": "stream",
     "text": [
      "發生錯誤 : name 'abdfdsf7' is not defined\n"
     ]
    }
   ],
   "source": [
    "try:\n",
    "    score:int = eval(input(\"請輸入學生分數(最高300分):\"))\n",
    "    if score < 300:\n",
    "        is_add:str = input(\"學生是否符合加分條件?(y,n)\")\n",
    "        if is_add == 'y':\n",
    "            score *= 1.05\n",
    "            if score > 300:\n",
    "                score = 300\n",
    "        print(f'學生總分數為 {round(score)}')\n",
    "    else:\n",
    "        print(\"輸入的分數不可以超過300分\")\n",
    "except Exception as Err:\n",
    "    print(f\"發生錯誤 : {Err}\")        "
   ]
  },
  {
   "cell_type": "code",
   "execution_count": null,
   "metadata": {},
   "outputs": [],
   "source": [
    "## "
   ]
  }
 ],
 "metadata": {
  "kernelspec": {
   "display_name": "Python 3",
   "language": "python",
   "name": "python3"
  },
  "language_info": {
   "codemirror_mode": {
    "name": "ipython",
    "version": 3
   },
   "file_extension": ".py",
   "mimetype": "text/x-python",
   "name": "python",
   "nbconvert_exporter": "python",
   "pygments_lexer": "ipython3",
   "version": "3.10.14"
  }
 },
 "nbformat": 4,
 "nbformat_minor": 2
}
