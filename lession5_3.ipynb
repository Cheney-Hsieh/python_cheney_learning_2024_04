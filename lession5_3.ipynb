{
 "cells": [
  {
   "cell_type": "code",
   "execution_count": 2,
   "metadata": {},
   "outputs": [
    {
     "name": "stdout",
     "output_type": "stream",
     "text": [
      "發生錯誤 : name 'abdfdsf7' is not defined\n"
     ]
    }
   ],
   "source": [
    "try:\n",
    "    score:int = eval(input(\"請輸入學生分數(最高300分):\"))\n",
    "    if score < 300:\n",
    "        is_add:str = input(\"學生是否符合加分條件?(y,n)\")\n",
    "        if is_add == 'y':\n",
    "            score *= 1.05\n",
    "            if score > 300:\n",
    "                score = 300\n",
    "        print(f'學生總分數為 {round(score)}')\n",
    "    else:\n",
    "        print(\"輸入的分數不可以超過300分\")\n",
    "except Exception as Err:\n",
    "    print(f\"發生錯誤 : {Err}\")        "
   ]
  },
  {
   "cell_type": "code",
   "execution_count": 1,
   "metadata": {},
   "outputs": [
    {
     "name": "stdout",
     "output_type": "stream",
     "text": [
      "語法錯誤 , 體重必須大於40公斤並且小於170公斤\n"
     ]
    }
   ],
   "source": [
    "## 請輸入姓名:xxxx\n",
    "## 請輸入身高(cm):\n",
    "## 請輸入體重(kg):\n",
    "### xxxx,您的BMI:25.52\n",
    "\n",
    "try:\n",
    "    name:str = str(input(\"請輸入你的姓名 : \"))\n",
    "    height:float = float(input(\"請輸入你的身高(120 ~ 230 cm):\"))\n",
    "    if height < 120 or height > 230:\n",
    "        ##print(\"身高不正常\")\n",
    "      #  raise Exception(\"身高必須大於120同時小於230\")\n",
    "        raise ValueError(\"身高必須大於120同時小於230\")\n",
    "    ##else:\n",
    "    ##    print(\"身高不對\")\n",
    "    weight:float = float(input(\"請輸入你的體重(40 ~ 170 kg) : \"))\n",
    "    if weight < 40 or weight > 170:\n",
    "        raise SyntaxError(\"體重必須大於40公斤並且小於170公斤\")\n",
    "    \n",
    "    bmi:float = weight / (height/100) **2 \n",
    "\n",
    "    print(f' {name} , 你的 BMI: {round(bmi,ndigits=2)}')\n",
    "except ValueError as valErr:\n",
    "    print(f\"格式錯誤 , {valErr}\")\n",
    "    \n",
    "except SyntaxError as SynErr:\n",
    "    print(f\"語法錯誤 , {SynErr}\")\n",
    "    \n",
    "except Exception as Err:\n",
    "    print(f\"資料輸入錯誤 , {Err}\")\n",
    "    \n"
   ]
  },
  {
   "cell_type": "code",
   "execution_count": null,
   "metadata": {},
   "outputs": [],
   "source": []
  }
 ],
 "metadata": {
  "kernelspec": {
   "display_name": "Python 3",
   "language": "python",
   "name": "python3"
  },
  "language_info": {
   "codemirror_mode": {
    "name": "ipython",
    "version": 3
   },
   "file_extension": ".py",
   "mimetype": "text/x-python",
   "name": "python",
   "nbconvert_exporter": "python",
   "pygments_lexer": "ipython3",
   "version": "3.10.14"
  }
 },
 "nbformat": 4,
 "nbformat_minor": 2
}
