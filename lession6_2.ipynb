{
 "cells": [
  {
   "cell_type": "code",
   "execution_count": 5,
   "metadata": {},
   "outputs": [
    {
     "name": "stdout",
     "output_type": "stream",
     "text": [
      "獎金 0 元\n"
     ]
    }
   ],
   "source": [
    "math = int(input(\"請輸入數學分數：\"))\n",
    "chinese = int(input(\"請輸入國文分數：\"))\n",
    "if chinese == 100 and math == 100:\n",
    "    bonus = 1000\n",
    "elif chinese == 100 or math == 100:\n",
    "    bonus = 500\n",
    "else:\n",
    "    bonus = 0\n",
    "\n",
    "print(f\"獎金 {bonus} 元\")   "
   ]
  },
  {
   "cell_type": "code",
   "execution_count": 2,
   "metadata": {},
   "outputs": [
    {
     "name": "stdout",
     "output_type": "stream",
     "text": [
      "請輸入學生的分數(最高300分):'125a' is not an integer.\n",
      "請輸入學生的分數(最高300分):Blank values are not allowed.\n",
      "請輸入學生的分數(最高300分):Blank values are not allowed.\n",
      "請輸入學生的分數(最高300分):'flower' is not an integer.\n",
      "請輸入學生的分數(最高300分):200\n"
     ]
    }
   ],
   "source": [
    "import pyinputplus as pyip\n",
    "\n",
    "score = pyip.inputInt(\"請輸入學生的分數(最高300分):\",min=0,max=300)\n",
    "print(score)"
   ]
  }
 ],
 "metadata": {
  "kernelspec": {
   "display_name": "Python 3",
   "language": "python",
   "name": "python3"
  },
  "language_info": {
   "codemirror_mode": {
    "name": "ipython",
    "version": 3
   },
   "file_extension": ".py",
   "mimetype": "text/x-python",
   "name": "python",
   "nbconvert_exporter": "python",
   "pygments_lexer": "ipython3",
   "version": "3.10.14"
  }
 },
 "nbformat": 4,
 "nbformat_minor": 2
}
