{
 "cells": [
  {
   "cell_type": "code",
   "execution_count": null,
   "metadata": {},
   "outputs": [],
   "source": [
    "student1 = [69, 78, 72 ,91, 85]\n",
    "student2 = [75, 92, 92 ,76, 92]\n",
    "\n",
    "for i in range(len(student1)):\n",
    "    scores = student1[i] + student2[i]\n",
    "    print(scores)\n",
    "    print('===========')"
   ]
  },
  {
   "cell_type": "code",
   "execution_count": null,
   "metadata": {},
   "outputs": [],
   "source": [
    "student1 + student2"
   ]
  },
  {
   "cell_type": "markdown",
   "metadata": {},
   "source": [
    "python 有三個擴充的套件\n",
    "numpy\n",
    "Series\n",
    "DataFrame"
   ]
  },
  {
   "cell_type": "code",
   "execution_count": 3,
   "metadata": {},
   "outputs": [
    {
     "name": "stdout",
     "output_type": "stream",
     "text": [
      "[144 170 164 167 177]\n",
      "[5175 7176 6624 6916 7820]\n",
      "144\n",
      "170\n",
      "164\n",
      "167\n",
      "177\n"
     ]
    }
   ],
   "source": [
    "import numpy as np\n",
    "from numpy import ndarray\n",
    "\n",
    "student1:ndarray = np.array([69, 78, 72 ,91, 85])\n",
    "student2:ndarray = np.array([75, 92, 92 ,76, 92])\n",
    "\n",
    "sums:ndarray = student1 + student2\n",
    "multiplex = student1 * student2\n",
    "print(sums)\n",
    "print(multiplex)\n",
    "\n",
    "for sum in sums:\n",
    "    print(sum)"
   ]
  },
  {
   "cell_type": "code",
   "execution_count": 4,
   "metadata": {},
   "outputs": [
    {
     "name": "stdout",
     "output_type": "stream",
     "text": [
      "[[1 2 3]\n",
      " [4 5 6]]\n",
      "2\n",
      "(2, 3)\n",
      "6\n",
      "int64\n"
     ]
    }
   ],
   "source": [
    "array:ndarray = np.array([[1,2,3],[4,5,6]])\n",
    "print(array)\n",
    "#property\n",
    "#ndim , shape,size,dtype\n",
    "print(array.ndim)\n",
    "print(array.shape)\n",
    "print(array.size)\n",
    "print(array.dtype)\n",
    "\n"
   ]
  },
  {
   "cell_type": "code",
   "execution_count": 5,
   "metadata": {},
   "outputs": [
    {
     "data": {
      "text/plain": [
       "array([[ 82,  93,  53,  90,  95],\n",
       "       [ 77,  70,  76,  60,  93],\n",
       "       [ 52,  59,  94,  66,  57],\n",
       "       [ 80,  59,  50,  97,  59],\n",
       "       [ 92,  81,  94,  65,  93],\n",
       "       [ 78,  79,  50,  79,  98],\n",
       "       [ 76,  98,  67,  53,  74],\n",
       "       [ 73,  75,  85,  65,  94],\n",
       "       [ 63, 100,  92,  87,  61],\n",
       "       [ 61,  87,  52,  82,  53],\n",
       "       [ 71,  79,  92,  75,  63],\n",
       "       [ 73,  91,  85,  98,  91],\n",
       "       [ 92,  94,  99,  90,  77],\n",
       "       [100,  74,  66,  58,  68],\n",
       "       [ 77,  61,  96,  91,  69],\n",
       "       [ 70,  73,  62,  82,  97],\n",
       "       [ 50,  80,  99,  52,  68],\n",
       "       [ 62,  82,  51,  98,  90],\n",
       "       [ 91,  80,  94,  68,  54],\n",
       "       [ 54,  92,  95,  90,  62],\n",
       "       [ 62,  50,  86,  87,  61],\n",
       "       [ 80,  60,  69,  64,  53],\n",
       "       [ 79,  50,  96,  77,  95],\n",
       "       [ 71,  83,  77,  67,  61],\n",
       "       [ 76,  82,  68,  95,  61],\n",
       "       [ 80,  69,  90,  96,  98],\n",
       "       [ 59,  90,  57,  71,  60],\n",
       "       [ 73,  60,  68,  50,  62],\n",
       "       [ 95,  61,  74,  60,  99],\n",
       "       [ 62,  86,  64,  58,  62],\n",
       "       [ 53,  92,  53,  54,  67],\n",
       "       [ 98,  95,  65,  81,  70],\n",
       "       [ 67,  75,  55,  58,  95],\n",
       "       [ 90,  67,  65,  86,  88],\n",
       "       [ 58,  64,  79,  53,  80],\n",
       "       [ 54,  62,  67,  55,  91],\n",
       "       [ 92,  78,  59,  71,  51],\n",
       "       [ 64,  50,  94,  98,  68],\n",
       "       [100,  85,  86,  95,  89],\n",
       "       [ 55,  74,  57, 100,  58],\n",
       "       [ 97,  57,  68,  60,  50],\n",
       "       [ 67,  93,  55,  89,  61],\n",
       "       [ 73,  64,  57,  62,  97],\n",
       "       [ 76,  94,  93,  74,  58],\n",
       "       [ 60, 100,  89, 100,  78],\n",
       "       [ 83,  99,  99,  72,  67],\n",
       "       [ 77,  57,  80,  68,  78],\n",
       "       [ 98,  93,  68,  83,  55],\n",
       "       [ 93,  81,  89,  76,  90],\n",
       "       [ 69,  94,  55,  90,  98]])"
      ]
     },
     "execution_count": 5,
     "metadata": {},
     "output_type": "execute_result"
    }
   ],
   "source": [
    "np.random.randint(50,101,size=(50,5))"
   ]
  }
 ],
 "metadata": {
  "kernelspec": {
   "display_name": "Python 3",
   "language": "python",
   "name": "python3"
  },
  "language_info": {
   "codemirror_mode": {
    "name": "ipython",
    "version": 3
   },
   "file_extension": ".py",
   "mimetype": "text/x-python",
   "name": "python",
   "nbconvert_exporter": "python",
   "pygments_lexer": "ipython3",
   "version": "3.10.14"
  }
 },
 "nbformat": 4,
 "nbformat_minor": 2
}
