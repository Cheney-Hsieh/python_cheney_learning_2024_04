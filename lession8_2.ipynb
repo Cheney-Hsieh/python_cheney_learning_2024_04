{
 "cells": [
  {
   "cell_type": "code",
   "execution_count": 5,
   "metadata": {},
   "outputs": [
    {
     "name": "stdout",
     "output_type": "stream",
     "text": [
      "15\n",
      "102\n",
      "152.0\n"
     ]
    }
   ],
   "source": [
    "def add(a:int , b:int)->int:\n",
    "    return a + b\n",
    "\n",
    "def multiply(a:int | float,b:int |float)->int|float:\n",
    "    return a * b\n",
    "\n",
    "print(add(5,10))\n",
    "print(add(8,94))\n",
    "\n",
    "print(multiply(76,2.0))"
   ]
  }
 ],
 "metadata": {
  "kernelspec": {
   "display_name": "Python 3",
   "language": "python",
   "name": "python3"
  },
  "language_info": {
   "codemirror_mode": {
    "name": "ipython",
    "version": 3
   },
   "file_extension": ".py",
   "mimetype": "text/x-python",
   "name": "python",
   "nbconvert_exporter": "python",
   "pygments_lexer": "ipython3",
   "version": "3.10.14"
  }
 },
 "nbformat": 4,
 "nbformat_minor": 2
}
