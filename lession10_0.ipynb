{
 "cells": [
  {
   "cell_type": "code",
   "execution_count": 8,
   "metadata": {},
   "outputs": [
    {
     "name": "stdout",
     "output_type": "stream",
     "text": [
      "請輸入姓名:Cheney\n",
      "請輸入身高(120~230)(cm):167.0\n",
      "請輸入體重(40~170)(kg):71.0\n",
      "Cheney, 您的BMI: 25.46 , 你目前 體重過重\n"
     ]
    }
   ],
   "source": [
    "import pyinputplus as pyip\n",
    "\n",
    "class Bmi():\n",
    "    def __init__(self,name:str,weight:float|int=0,height:float|int=0):\n",
    "          self.name = name\n",
    "          self.weight = weight\n",
    "          self.height = height\n",
    "    def __repr__(self):\n",
    "          super().__repr__()\n",
    "          return (f'{p1.name}, 您的BMI: {p1.bmi} , 你目前{p1.status()}')\n",
    "    @property\n",
    "    def bmi(self):                   \n",
    "        return round(self.weight / (self.height / 100) ** 2,ndigits=2)\n",
    "    ## method\n",
    "    def status(self)->str:\n",
    "        if self.bmi < 18.5:\n",
    "            return(\"體重過輕\")\n",
    "        elif self.bmi <24:\n",
    "            return(\"體重正常\")\n",
    "        elif self.bmi < 27:\n",
    "            return(\"體重過重\")\n",
    "        elif self.bmi < 30:\n",
    "            return(\"輕度肥胖\")    \n",
    "        elif self.bmi < 35:\n",
    "            return(\"中度肥胖\") \n",
    "        elif self.bmi >=35 :\n",
    "            return(\"重度肥胖\")\n",
    "         \n",
    "    \n",
    "        \n",
    "name =  pyip.inputStr(\"請輸入姓名:\")\n",
    "print(name)\n",
    "h_val= pyip.inputFloat('請輸入身高(120~230)(cm):',lessThan=230,greaterThan=120) \n",
    "print(h_val)\n",
    "w_val = pyip.inputFloat('請輸入體重(40~170)(kg):',lessThan=170,greaterThan=40)\n",
    "print(w_val)\n",
    "\n",
    "p1 = Bmi(name,w_val,h_val)\n",
    "print(p1)\n",
    "\n",
    "\n",
    "\n",
    "        \n"
   ]
  },
  {
   "cell_type": "code",
   "execution_count": 5,
   "metadata": {},
   "outputs": [
    {
     "name": "stdout",
     "output_type": "stream",
     "text": [
      "請輸入姓名:"
     ]
    },
    {
     "name": "stdout",
     "output_type": "stream",
     "text": [
      "cheney\n",
      "請輸入身高(120~230)(cm):167.0\n",
      "請輸入體重(40~170)(kg):72.0\n",
      "cheney, 您的BMI: 25.82 , 你目前體重過重\n"
     ]
    }
   ],
   "source": [
    "import pyinputplus as pyip\n",
    "from dataclasses import dataclass\n",
    "\n",
    "@dataclass\n",
    "class Bmi(): \n",
    "    name:str\n",
    "    weight:float\n",
    "    height:float \n",
    "    def __repr__(self):\n",
    "        super().__repr__()\n",
    "        return (f'{p1.name}, 您的BMI: {p1.bmi} , 你目前{p1.status()}')\n",
    "    @property\n",
    "    def bmi(self):                   \n",
    "        return round(self.weight / (self.height / 100) ** 2,ndigits=2)\n",
    "    ## method\n",
    "    def status(self)->str:\n",
    "        if self.bmi < 18.5:\n",
    "            return(\"體重過輕\")\n",
    "        elif self.bmi <24:\n",
    "            return(\"體重正常\")\n",
    "        elif self.bmi < 27:\n",
    "            return(\"體重過重\")\n",
    "        elif self.bmi < 30:\n",
    "            return(\"輕度肥胖\")    \n",
    "        elif self.bmi < 35:\n",
    "            return(\"中度肥胖\") \n",
    "        elif self.bmi >=35 :\n",
    "            return(\"重度肥胖\")\n",
    "                \n",
    "name =  pyip.inputStr(\"請輸入姓名:\")\n",
    "print(name)\n",
    "h_val= pyip.inputFloat('請輸入身高(120~230)(cm):',lessThan=230,greaterThan=120) \n",
    "print(h_val)\n",
    "w_val = pyip.inputFloat('請輸入體重(40~170)(kg):',lessThan=170,greaterThan=40)\n",
    "print(w_val)\n",
    "\n",
    "p1 = Bmi(name,w_val,h_val)\n",
    "print(p1)\n",
    "       "
   ]
  }
 ],
 "metadata": {
  "kernelspec": {
   "display_name": "Python 3",
   "language": "python",
   "name": "python3"
  },
  "language_info": {
   "codemirror_mode": {
    "name": "ipython",
    "version": 3
   },
   "file_extension": ".py",
   "mimetype": "text/x-python",
   "name": "python",
   "nbconvert_exporter": "python",
   "pygments_lexer": "ipython3",
   "version": "3.10.14"
  }
 },
 "nbformat": 4,
 "nbformat_minor": 2
}
