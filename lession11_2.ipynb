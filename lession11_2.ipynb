{
 "cells": [
  {
   "cell_type": "markdown",
   "metadata": {},
   "source": [
    "#### 操作方式跟dataclass 一樣"
   ]
  },
  {
   "cell_type": "code",
   "execution_count": null,
   "metadata": {},
   "outputs": [],
   "source": [
    "from pydantic import BaseModel\n",
    "\n",
    "class Person(BaseModel):\n",
    "    #field 一定要有TYPE HINT\n",
    "    first_name:str\n",
    "    last_name:str\n",
    "    age:int\n",
    "\n",
    "p = Person(first_name = 'Cheney', last_name = 'Hsieh', age = 50)   \n",
    "print(p.first_name)\n",
    "print(p.last_name)\n",
    "print(p.age)\n",
    "print(p)\n"
   ]
  },
  {
   "cell_type": "markdown",
   "metadata": {},
   "source": [
    "## dataClass 做不到的\n",
    "## 驗證資料"
   ]
  },
  {
   "cell_type": "code",
   "execution_count": null,
   "metadata": {},
   "outputs": [],
   "source": [
    "p1 = Person(first_name = 'Cheney', last_name = 'Hsieh', age = \"50\")   ## 會自動轉換型別\n",
    "print(p1)"
   ]
  },
  {
   "cell_type": "code",
   "execution_count": null,
   "metadata": {},
   "outputs": [],
   "source": [
    "try:\n",
    "    p2 = Person(first_name = 'Cheney', last_name = 'Hsieh', age = \"abc\")   ## 會自動轉換型別\n",
    "\n",
    "except Exception as error:\n",
    "    print(error)    "
   ]
  },
  {
   "cell_type": "markdown",
   "metadata": {},
   "source": [
    "### 可以將純文字轉成pydantic實體\n",
    "-model_validate_json"
   ]
  },
  {
   "cell_type": "code",
   "execution_count": null,
   "metadata": {},
   "outputs": [],
   "source": [
    "data_json ='''  \n",
    "{\n",
    "    \"first_name\": \"john\",\n",
    "    \"last_name\": \"Smith\",\n",
    "    \"age\":42\n",
    "}\n",
    "'''\n",
    "\n",
    "p3 = Person.model_validate_json(data_json)\n",
    "print(p3)\n",
    "\n"
   ]
  },
  {
   "cell_type": "markdown",
   "metadata": {},
   "source": [
    "## 可以只轉換想要轉換的欄位"
   ]
  },
  {
   "cell_type": "code",
   "execution_count": null,
   "metadata": {},
   "outputs": [],
   "source": [
    "data_json ='''  \n",
    "{\n",
    "    \"first_name\": \"john\",\n",
    "    \"last_name\": \"Smith\",\n",
    "    \"age\":42,\n",
    "    \"height\":173\n",
    "}\n",
    "'''\n",
    "\n",
    "p4 = Person.model_validate_json(data_json)\n",
    "print(p4)\n",
    "\n"
   ]
  },
  {
   "cell_type": "markdown",
   "metadata": {},
   "source": [
    "## 可以設定取得的資料,如果沒有這個欄位,設定預設值"
   ]
  },
  {
   "cell_type": "code",
   "execution_count": 32,
   "metadata": {},
   "outputs": [
    {
     "name": "stdout",
     "output_type": "stream",
     "text": [
      "first_name='john' last_name='Smith' age=0 lucky_numbers=[]\n"
     ]
    }
   ],
   "source": [
    "from pydantic import BaseModel\n",
    "\n",
    "class Person(BaseModel):\n",
    "    #field 一定要有TYPE HINT\n",
    "    first_name:str # 一定要有資料\n",
    "    last_name:str # 一定要有資料\n",
    "    age:int = 0 # 有預設的資料\n",
    "    lucky_numbers:list[int]=[]\n",
    "\n",
    "data_json ='''  \n",
    "{\n",
    "    \"first_name\": \"john\",\n",
    "    \"last_name\": \"Smith\"\n",
    "}\n",
    "'''\n",
    "\n",
    "p5 = Person.model_validate_json(data_json)\n",
    "print(p5)"
   ]
  },
  {
   "cell_type": "code",
   "execution_count": 54,
   "metadata": {},
   "outputs": [
    {
     "name": "stdout",
     "output_type": "stream",
     "text": [
      "first_name='john' last_name='Smith' age=0 lucky_numbers=[1, 2, 3, 4, 5]\n"
     ]
    }
   ],
   "source": [
    "from pydantic import BaseModel\n",
    "\n",
    "class Person(BaseModel):\n",
    "    #field 一定要有TYPE HINT\n",
    "    first_name:str # 一定要有資料\n",
    "    last_name:str # 一定要有資料\n",
    "    age:int = 0 # 有預設的資料\n",
    "    lucky_numbers:list[int] = []\n",
    "\n",
    "data_json ='''  \n",
    "{\n",
    "    \"first_name\": \"john\",\n",
    "    \"last_name\": \"Smith\",\n",
    "    \"lucky_numbers\":[1,2,3,4,\"5\"]\n",
    "}\n",
    "'''\n",
    "\n",
    "p6 = Person.model_validate_json(data_json)\n",
    "print(p6)"
   ]
  },
  {
   "cell_type": "markdown",
   "metadata": {},
   "source": [
    "## 可以另外定義欄位的名字"
   ]
  },
  {
   "cell_type": "code",
   "execution_count": 56,
   "metadata": {},
   "outputs": [
    {
     "name": "stdout",
     "output_type": "stream",
     "text": [
      "id_=100 first_name='john' last_name='Smith' age=42 lucky_numbers=[1, 2, 3, 4, 5]\n"
     ]
    }
   ],
   "source": [
    "data_json ='''  \n",
    "{\n",
    "    \"id\": \"100\",\n",
    "    \"First Name\": \"john\",\n",
    "    \"Last Name\": \"Smith\",\n",
    "    \"age in yeas\" : \"42\",\n",
    "    \"lucky_numbers\":[1,2,3,4,\"5\"]\n",
    "}\n",
    "'''\n",
    "from pydantic import BaseModel,Field\n",
    "\n",
    "class Person(BaseModel):\n",
    "    id_:int = Field(alias=\"id\")\n",
    "    first_name:str = Field(alias=\"First Name\") \n",
    "    last_name:str = Field(alias=\"Last Name\")\n",
    "    age:int = Field(alias=\"age in yeas\",default=0) \n",
    "    lucky_numbers:list[int] = []\n",
    "\n",
    "p7 = Person.model_validate_json(data_json)\n",
    "print(p7)\n",
    "\n",
    "\n"
   ]
  },
  {
   "cell_type": "markdown",
   "metadata": {},
   "source": [
    "## 巢狀的Model"
   ]
  },
  {
   "cell_type": "code",
   "execution_count": 62,
   "metadata": {},
   "outputs": [
    {
     "name": "stdout",
     "output_type": "stream",
     "text": [
      "Taiwan\n",
      "Taipei City\n",
      "first_name='Cheney' last_name='Hsieh' born=Born(place=Place(country='Taiwan', city='Taipei City'), date='2001-01-01')\n"
     ]
    }
   ],
   "source": [
    "data:str= '''\n",
    "{\n",
    "    \"firstName\": \"Cheney\",\n",
    "    \"lastName\": \"Hsieh\",\n",
    "    \"born\":{\n",
    "        \"place\":{\n",
    "            \"country\":\"Taiwan\",\n",
    "            \"city\":\"Taipei City\"\n",
    "        },\n",
    "        \"date\":\"2001-01-01\"\n",
    "    }\n",
    "}\n",
    "'''\n",
    "from pydantic import BaseModel,Field\n",
    "\n",
    "class Place(BaseModel):\n",
    "    country:str\n",
    "    city:str\n",
    "\n",
    "class Born(BaseModel):\n",
    "    place:Place\n",
    "    date:str\n",
    "class Person(BaseModel):   \n",
    "    first_name:str = Field(alias=\"firstName\") \n",
    "    last_name:str = Field(alias=\"lastName\")\n",
    "    born:Born \n",
    "\n",
    "p1= Person.model_validate_json(data)\n",
    "print(p1.born.place.country)\n",
    "print(p1.born.place.city)\n",
    "print(p1)\n"
   ]
  }
 ],
 "metadata": {
  "kernelspec": {
   "display_name": "Python 3",
   "language": "python",
   "name": "python3"
  },
  "language_info": {
   "codemirror_mode": {
    "name": "ipython",
    "version": 3
   },
   "file_extension": ".py",
   "mimetype": "text/x-python",
   "name": "python",
   "nbconvert_exporter": "python",
   "pygments_lexer": "ipython3",
   "version": "3.10.14"
  }
 },
 "nbformat": 4,
 "nbformat_minor": 2
}
