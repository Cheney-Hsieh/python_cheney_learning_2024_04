{
 "cells": [
  {
   "cell_type": "code",
   "execution_count": 3,
   "metadata": {},
   "outputs": [
    {
     "name": "stdout",
     "output_type": "stream",
     "text": [
      "請輸入取得名字的數量: 6\n",
      "賴佳雯 陳慧君 楊韻如 林冠蕙 黃善迪 王坤安 \n"
     ]
    }
   ],
   "source": [
    "import random\n",
    "import pyinputplus as pyip\n",
    "\n",
    "with open('names.txt',encoding='utf-8') as file:\n",
    "    content:str = file.read()\n",
    "n:int = pyip.inputInt(\"請輸入取得名字的數量: \",min=0,max=200) \n",
    "print(n)\n",
    "names:list[str] = content.split(sep='\\n')\n",
    "radom_names:list[str] = random.choices(population=names,k=n)\n",
    "for name in radom_names:\n",
    "    print(name,end=' ') \n",
    "print( )      "
   ]
  }
 ],
 "metadata": {
  "kernelspec": {
   "display_name": "Python 3",
   "language": "python",
   "name": "python3"
  },
  "language_info": {
   "codemirror_mode": {
    "name": "ipython",
    "version": 3
   },
   "file_extension": ".py",
   "mimetype": "text/x-python",
   "name": "python",
   "nbconvert_exporter": "python",
   "pygments_lexer": "ipython3",
   "version": "3.10.14"
  }
 },
 "nbformat": 4,
 "nbformat_minor": 2
}
