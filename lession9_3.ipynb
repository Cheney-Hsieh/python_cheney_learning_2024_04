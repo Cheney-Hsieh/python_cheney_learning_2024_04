{
 "cells": [
  {
   "cell_type": "code",
   "execution_count": 1,
   "metadata": {},
   "outputs": [
    {
     "name": "stdout",
     "output_type": "stream",
     "text": [
      "Student(name='Cheney', chinese=86, english=92, math=76)\n",
      "總分為254 ,平均為84.67\n",
      "========================================\n",
      "Student(name='Robert', chinese=98, english=76, math=67)\n",
      "總分為241,平均為80.33\n"
     ]
    }
   ],
   "source": [
    "## 使用dataclass可以簡化class 的書寫流程\n",
    "from dataclasses import dataclass\n",
    "\n",
    "@dataclass\n",
    "class Student():\n",
    "    name:str\n",
    "    chinese:int\n",
    "    english:int\n",
    "    math:int\n",
    "    \n",
    "    @property\n",
    "    def sum(self):\n",
    "        return self.chinese + self.english + self.math\n",
    "    def average(self)->float:\n",
    "        return self.sum / 3\n",
    "\n",
    "s1 = Student('Cheney',86,92,76)\n",
    "print(s1)\n",
    "print(f'總分為{s1.sum} ,平均為{s1.average():.2f}')\n",
    "s2 = Student('Robert',98,76,67)\n",
    "print('========================================')\n",
    "print(s2)\n",
    "print(f'總分為{s2.sum},平均為{s2.average():.2f}')    "
   ]
  }
 ],
 "metadata": {
  "kernelspec": {
   "display_name": "Python 3",
   "language": "python",
   "name": "python3"
  },
  "language_info": {
   "codemirror_mode": {
    "name": "ipython",
    "version": 3
   },
   "file_extension": ".py",
   "mimetype": "text/x-python",
   "name": "python",
   "nbconvert_exporter": "python",
   "pygments_lexer": "ipython3",
   "version": "3.10.14"
  }
 },
 "nbformat": 4,
 "nbformat_minor": 2
}
