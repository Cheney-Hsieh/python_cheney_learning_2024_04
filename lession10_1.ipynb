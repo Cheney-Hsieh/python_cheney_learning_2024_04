{
 "cells": [
  {
   "cell_type": "code",
   "execution_count": null,
   "metadata": {},
   "outputs": [],
   "source": [
    "f = open('names.txt',encoding=\"utf-8\")\n",
    "\n",
    "f.close()\n",
    "\n",
    "# f.close ## close  (property) 跟 close() (method) 是不同的\n",
    "# f.close()"
   ]
  },
  {
   "cell_type": "code",
   "execution_count": 22,
   "metadata": {},
   "outputs": [
    {
     "name": "stdout",
     "output_type": "stream",
     "text": [
      "=========================\n",
      "陳怡伶\n",
      "馮芳如\n",
      "蒙淑惠\n",
      "['張軒宸', '陳向愛', '賴心怡', '王怡珊']\n",
      "['陳怡伶', '馮芳如', '蒙淑惠', '張軒宸', '陳向愛']\n",
      "['謝南慧', '趙家豪', '龐皓芳', '張彥博', '']\n"
     ]
    }
   ],
   "source": [
    "with open('names.txt',encoding=\"utf-8\") as file:\n",
    "   content:str=file.read()\n",
    "\n",
    "names:list = content.split(sep='\\n')\n",
    "\n",
    "for name in names:\n",
    "   print(name)\n",
    "print(\"=========================\")\n",
    "print(names[0]) \n",
    "print(names[1]) \n",
    "print(names[2]) \n",
    "print(names[3:7]) ## 第三到七個 \n",
    "print(names[:5])  ## 前五個\n",
    "print(names[-5:]) ## 後五個       "
   ]
  },
  {
   "cell_type": "code",
   "execution_count": 18,
   "metadata": {},
   "outputs": [
    {
     "name": "stdout",
     "output_type": "stream",
     "text": [
      "c h e n e y "
     ]
    }
   ],
   "source": [
    "for letter in 'cheney':\n",
    "    print(letter,end=' ')"
   ]
  },
  {
   "cell_type": "code",
   "execution_count": null,
   "metadata": {},
   "outputs": [],
   "source": []
  }
 ],
 "metadata": {
  "kernelspec": {
   "display_name": "Python 3",
   "language": "python",
   "name": "python3"
  },
  "language_info": {
   "codemirror_mode": {
    "name": "ipython",
    "version": 3
   },
   "file_extension": ".py",
   "mimetype": "text/x-python",
   "name": "python",
   "nbconvert_exporter": "python",
   "pygments_lexer": "ipython3",
   "version": "3.10.14"
  }
 },
 "nbformat": 4,
 "nbformat_minor": 2
}
