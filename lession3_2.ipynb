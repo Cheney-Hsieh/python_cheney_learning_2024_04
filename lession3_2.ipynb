{
 "cells": [
  {
   "cell_type": "code",
   "execution_count": 5,
   "metadata": {},
   "outputs": [],
   "source": [
    "## ptint() --> output\n",
    "## input() =--> input"
   ]
  },
  {
   "cell_type": "code",
   "execution_count": 11,
   "metadata": {},
   "outputs": [
    {
     "name": "stdout",
     "output_type": "stream",
     "text": [
      "width:99.0,height:99.1,area:9810.9\n"
     ]
    }
   ],
   "source": [
    "width:float = float(input(\"please enter the width : \"))\n",
    "height:float = float(input(\"please enter the height : \"))\n",
    "area:float = width * height\n",
    "print(f'width:{width},height:{height},area:{area}')\n"
   ]
  },
  {
   "cell_type": "code",
   "execution_count": 19,
   "metadata": {},
   "outputs": [
    {
     "name": "stdout",
     "output_type": "stream",
     "text": [
      "Caculate Circle area\n",
      "Radis: 10,circle area:314.15926\n",
      "Radis: 10.00000,circle area:314.16\n"
     ]
    }
   ],
   "source": [
    "\n",
    "print(\"Caculate Circle area\")\n",
    "radius:float = float(input(\"Please enter the radius : \"))\n",
    "PI = 3.1415926\n",
    "area:float = PI* radius ** 2\n",
    "print(f\"Radis: {radius:.0f},circle area:{PI* radius ** 2}\")\n",
    "print(f\"Radis: {radius:.5f},circle area:{area:.2f}\")"
   ]
  },
  {
   "cell_type": "code",
   "execution_count": 22,
   "metadata": {},
   "outputs": [
    {
     "name": "stdout",
     "output_type": "stream",
     "text": [
      "計算圓面積:\n",
      "半徑: 12,圓面積:475.2915525615999\n",
      "半徑: 12.30000,圓面積:475.29\n"
     ]
    }
   ],
   "source": [
    "import math\n",
    "print(\"計算圓面積:\")\n",
    "radius:float = float(input(\"請輸入半徑 : \"))\n",
    "area:float = math.pi * radius ** 2\n",
    "print(f\"半徑: {radius:.0f},圓面積:{math.pi* radius ** 2}\")\n",
    "print(f\"半徑: {radius:.5f},圓面積:{area:.2f}\")"
   ]
  },
  {
   "cell_type": "markdown",
   "metadata": {},
   "source": []
  }
 ],
 "metadata": {
  "kernelspec": {
   "display_name": "Python 3",
   "language": "python",
   "name": "python3"
  },
  "language_info": {
   "codemirror_mode": {
    "name": "ipython",
    "version": 3
   },
   "file_extension": ".py",
   "mimetype": "text/x-python",
   "name": "python",
   "nbconvert_exporter": "python",
   "pygments_lexer": "ipython3",
   "version": "3.10.14"
  }
 },
 "nbformat": 4,
 "nbformat_minor": 2
}
