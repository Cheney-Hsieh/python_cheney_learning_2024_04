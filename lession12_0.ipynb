{
 "cells": [
  {
   "cell_type": "code",
   "execution_count": 2,
   "metadata": {},
   "outputs": [
    {
     "name": "stdout",
     "output_type": "stream",
     "text": [
      "user_name='Scott' site_addr='stackabuse.com' location='Nebraska'\n",
      "user_name='Larry' site_addr='google.com' location='Michigan'\n"
     ]
    }
   ],
   "source": [
    "from pydantic import BaseModel,Field\n",
    "\n",
    "class People(BaseModel):\n",
    "    user_name:str = Field(alias = \"name\")\n",
    "    site_addr:str = Field(alias = \"website\")\n",
    "    location:str = Field(alias = \"from\")\n",
    "class MemberList(BaseModel):\n",
    "    people:list[People] = Field( alias= \"people\")\n",
    "\n",
    "with open('data.json',encoding='utf-8') as file:\n",
    "    members:MemberList = MemberList.model_validate_json(file.read())\n",
    "\n",
    "for member in members.people:\n",
    "   print(member)\n",
    "\n",
    "\n"
   ]
  },
  {
   "cell_type": "code",
   "execution_count": 3,
   "metadata": {},
   "outputs": [
    {
     "name": "stdout",
     "output_type": "stream",
     "text": [
      "{'people': [{'location': 'Nebraska',\n",
      "             'site_addr': 'stackabuse.com',\n",
      "             'user_name': 'Scott'},\n",
      "            {'location': 'Michigan',\n",
      "             'site_addr': 'google.com',\n",
      "             'user_name': 'Larry'}]}\n"
     ]
    }
   ],
   "source": [
    "from pprint import pprint\n",
    "\n",
    "data_dict:dict = members.model_dump() ## dump 可以把 dict 轉換成 json 格式\n",
    "#type(data_dict)\n",
    "pprint(data_dict)"
   ]
  }
 ],
 "metadata": {
  "kernelspec": {
   "display_name": "Python 3",
   "language": "python",
   "name": "python3"
  },
  "language_info": {
   "codemirror_mode": {
    "name": "ipython",
    "version": 3
   },
   "file_extension": ".py",
   "mimetype": "text/x-python",
   "name": "python",
   "nbconvert_exporter": "python",
   "pygments_lexer": "ipython3",
   "version": "3.10.14"
  }
 },
 "nbformat": 4,
 "nbformat_minor": 2
}
