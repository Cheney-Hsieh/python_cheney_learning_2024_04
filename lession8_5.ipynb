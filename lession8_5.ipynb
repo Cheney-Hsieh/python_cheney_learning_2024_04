{
 "cells": [
  {
   "cell_type": "code",
   "execution_count": 16,
   "metadata": {},
   "outputs": [
    {
     "ename": "SyntaxError",
     "evalue": "invalid syntax (__init__.py, line 1)",
     "output_type": "error",
     "traceback": [
      "Traceback \u001b[0;36m(most recent call last)\u001b[0m:\n",
      "\u001b[0m  File \u001b[1;32m~/.local/lib/python3.10/site-packages/IPython/core/interactiveshell.py:3577\u001b[0m in \u001b[1;35mrun_code\u001b[0m\n    exec(code_obj, self.user_global_ns, self.user_ns)\u001b[0m\n",
      "\u001b[0;36m  Cell \u001b[0;32mIn[16], line 1\u001b[0;36m\n\u001b[0;31m    import pyinputplus as pyip\u001b[0;36m\n",
      "\u001b[0;36m  File \u001b[0;32m~/.local/lib/python3.10/site-packages/pyinputplus/__init__.py:1\u001b[0;36m\u001b[0m\n\u001b[0;31m    4\"\"\"PyInputPlus by Al Sweigart al@inventwithpython.com\u001b[0m\n\u001b[0m     ^\u001b[0m\n\u001b[0;31mSyntaxError\u001b[0m\u001b[0;31m:\u001b[0m invalid syntax\n"
     ]
    }
   ],
   "source": [
    "import pyinputplus as pyip\n",
    "\n",
    "def cal_bmi(height:float|int,weight:float|int)->float:                   \n",
    "        bmi = weight / (height / 100) ** 2\n",
    "        return round(bmi,ndigits=2)\n",
    "\n",
    "\n",
    "def get_status(bmi:float|int)->str:\n",
    "        if bmi < 18.5:\n",
    "            return(\"體重過輕\")\n",
    "        elif bmi <24:\n",
    "            return(\"體重正常\")\n",
    "        elif bmi < 27:\n",
    "            return(\"體重過重\")\n",
    "        elif bmi < 30:\n",
    "            return(\"輕度肥胖\")    \n",
    "        elif bmi < 35:\n",
    "            return(\"中度肥胖\") \n",
    "        elif bmi >=35 :\n",
    "            return(\"重度肥胖\")\n",
    "        \n",
    "name =  pyip.inputStr(\"請輸入姓名:\")\n",
    "h_val= pyip.inputFloat('請輸入身高(120~230)(cm):',lessThan=230,greaterThan=120) \n",
    "w_val = pyip.inputFloat('請輸入體重(40~170)(kg):',lessThan=170,greaterThan=40)\n",
    "cur_bmi=cal_bmi(weight = w_val, height=h_val )\n",
    "cur_state = get_status(cur_bmi)\n",
    "\n",
    "print(f'{name}, 您的BMI: {cur_bmi} , 你目前 {cur_state}')\n",
    "\n",
    "\n",
    "        \n"
   ]
  }
 ],
 "metadata": {
  "kernelspec": {
   "display_name": "Python 3",
   "language": "python",
   "name": "python3"
  },
  "language_info": {
   "codemirror_mode": {
    "name": "ipython",
    "version": 3
   },
   "file_extension": ".py",
   "mimetype": "text/x-python",
   "name": "python",
   "nbconvert_exporter": "python",
   "pygments_lexer": "ipython3",
   "version": "2.7.undefined"
  }
 },
 "nbformat": 4,
 "nbformat_minor": 2
}
