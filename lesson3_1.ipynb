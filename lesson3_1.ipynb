{
 "cells": [
  {
   "cell_type": "code",
   "execution_count": 4,
   "metadata": {},
   "outputs": [
    {
     "name": "stdout",
     "output_type": "stream",
     "text": [
      "15\n",
      "15.0\n",
      "17.0\n"
     ]
    }
   ],
   "source": [
    "print(5+10)\n",
    "print(5.0+10)\n",
    "print(int(\"15\") +2.0)\n"
   ]
  },
  {
   "cell_type": "code",
   "execution_count": 6,
   "metadata": {},
   "outputs": [],
   "source": [
    "num1 = 5 + 10\n",
    "num2=  5.0 + 10\n",
    "num3 = int('15') + 10"
   ]
  },
  {
   "cell_type": "code",
   "execution_count": 9,
   "metadata": {},
   "outputs": [
    {
     "name": "stdout",
     "output_type": "stream",
     "text": [
      "15\n",
      "15.0\n",
      "25\n"
     ]
    }
   ],
   "source": [
    "print(num1)\n",
    "print(num2)\n",
    "print(num3)\n"
   ]
  },
  {
   "cell_type": "code",
   "execution_count": 11,
   "metadata": {},
   "outputs": [],
   "source": [
    "_a1 =5\n",
    "_a2 = 10\n",
    "_a3 = _a1 + _a2\n"
   ]
  },
  {
   "cell_type": "code",
   "execution_count": 12,
   "metadata": {},
   "outputs": [
    {
     "name": "stdout",
     "output_type": "stream",
     "text": [
      "5\n",
      "10\n",
      "15\n"
     ]
    }
   ],
   "source": [
    "print(_a1)\n",
    "print(_a2)\n",
    "print(_a3)"
   ]
  },
  {
   "cell_type": "code",
   "execution_count": 13,
   "metadata": {},
   "outputs": [
    {
     "name": "stdout",
     "output_type": "stream",
     "text": [
      "<class 'int'>\n",
      "<class 'float'>\n",
      "<class 'str'>\n",
      "<class 'bool'>\n"
     ]
    }
   ],
   "source": [
    "n = 10\n",
    "print(type(n))\n",
    "n = 10.0\n",
    "print(type(n))\n",
    "n = \"10.0\"\n",
    "print(type(n))\n",
    "n= True\n",
    "print(type(n))"
   ]
  },
  {
   "cell_type": "code",
   "execution_count": 19,
   "metadata": {},
   "outputs": [
    {
     "name": "stdout",
     "output_type": "stream",
     "text": [
      "10\n",
      "10.0\n",
      "cheney\n",
      "True\n"
     ]
    }
   ],
   "source": [
    "n:int = 10\n",
    "m:float =10.0\n",
    "name:str = \"cheney\"\n",
    "is_ok:bool =True\n",
    "\n",
    "print(n)\n",
    "print(m)\n",
    "print(name)\n",
    "print(is_ok)"
   ]
  },
  {
   "cell_type": "markdown",
   "metadata": {},
   "source": [
    "string & Integer Intergration"
   ]
  },
  {
   "cell_type": "code",
   "execution_count": 30,
   "metadata": {},
   "outputs": [
    {
     "name": "stdout",
     "output_type": "stream",
     "text": [
      "Square is 24.5\n",
      "Square is 10.9\n",
      "Square is 267.05\n"
     ]
    }
   ],
   "source": [
    "width:float = 24.5\n",
    "height:float = 10.9\n",
    "area:float = width * height\n",
    "\n",
    "print(\"Square is \" + str(width) )\n",
    "print(\"Square is \" + str(height) )\n",
    "print(\"Square is \" + str(area) )\n",
    "\n",
    "## print(\"Area length is $ \",area)"
   ]
  },
  {
   "cell_type": "markdown",
   "metadata": {},
   "source": [
    "string and intger intergration ( use string insertion)"
   ]
  },
  {
   "cell_type": "code",
   "execution_count": 36,
   "metadata": {},
   "outputs": [
    {
     "name": "stdout",
     "output_type": "stream",
     "text": [
      "Square wid is 24.5\n",
      "Square high is 10.9\n",
      "Square area is 267.05\n",
      "Square wid is 24.5, high is 10.9 , area is 267.05\n"
     ]
    }
   ],
   "source": [
    "width:float = 24.5\n",
    "height:float = 10.9\n",
    "area:float = width * height\n",
    "\n",
    "print(f'Square wid is {width}')\n",
    "print(f'Square high is {height}') \n",
    "print(f'Square area is {area}') \n",
    "print(f'Square wid is {width}, high is {height} , area is {area}') "
   ]
  }
 ],
 "metadata": {
  "kernelspec": {
   "display_name": "Python 3",
   "language": "python",
   "name": "python3"
  },
  "language_info": {
   "codemirror_mode": {
    "name": "ipython",
    "version": 3
   },
   "file_extension": ".py",
   "mimetype": "text/x-python",
   "name": "python",
   "nbconvert_exporter": "python",
   "pygments_lexer": "ipython3",
   "version": "3.10.14"
  }
 },
 "nbformat": 4,
 "nbformat_minor": 2
}
