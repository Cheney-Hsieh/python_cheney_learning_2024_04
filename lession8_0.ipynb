{
 "cells": [
  {
   "cell_type": "code",
   "execution_count": null,
   "metadata": {},
   "outputs": [],
   "source": [
    "## 輸入:\n",
    "## 請輸入整數,求所有因數:10\n",
    "\n",
    "##輸出:\n",
    "##10的因數是:\n",
    "## 1 2 5 10\n",
    "import pyinputplus as pyip\n",
    "\n",
    "value = pyip.inputInt(\"請輸入整數,求所有因數:\",min=1);print(value)\n",
    "print(f\"{value} 的因數是\")\n",
    "for n in range(1,value+1):\n",
    "    if value % n == 0 :\n",
    "        print(n,end=' ')"
   ]
  },
  {
   "cell_type": "code",
   "execution_count": 1,
   "metadata": {},
   "outputs": [
    {
     "name": "stdout",
     "output_type": "stream",
     "text": [
      "==========猜數字遊戲======\n",
      "\n",
      "猜數字的範圍1~100:60\n",
      "你猜錯了, 數字要小一點\n",
      "你已經猜了1次\n",
      "還要繼續玩遊戲嗎?(Y/N)==========猜數字遊戲======\n",
      "\n",
      "猜數字的範圍1~100:40\n",
      "你猜錯了, 數字要大一點\n",
      "你已經猜了1次\n",
      "還要繼續玩遊戲嗎?(Y/N)'30' is not a valid yes/no response.\n",
      "還要繼續玩遊戲嗎?(Y/N)'50' is not a valid yes/no response.\n",
      "還要繼續玩遊戲嗎?(Y/N)==========猜數字遊戲======\n",
      "\n",
      "猜數字的範圍1~100:'y' is not an integer.\n",
      "猜數字的範圍1~100:50\n",
      "你猜錯了, 數字要小一點\n",
      "你已經猜了1次\n",
      "還要繼續玩遊戲嗎?(Y/N)Blank values are not allowed.\n",
      "還要繼續玩遊戲嗎?(Y/N)Blank values are not allowed.\n",
      "還要繼續玩遊戲嗎?(Y/N)Blank values are not allowed.\n",
      "還要繼續玩遊戲嗎?(Y/N)"
     ]
    }
   ],
   "source": [
    "import random as ran\n",
    "import pyinputplus as pyip\n",
    "    min = 1\n",
    "    max = 100\n",
    "    count = 0\n",
    "while True:\n",
    "    \n",
    "    target = ran.randint(min,max)\n",
    "    print(\"==========猜數字遊戲======\\n\")\n",
    "\n",
    "    count += 1\n",
    "    keyin = pyip.inputInt(f\"猜數字的範圍{min}~{max}:\");print(keyin)\n",
    "    if keyin == target :\n",
    "        print(f\"你猜對了 ，答案是:{target}\")\n",
    "        print(f\"你總共猜了{count}次\")\n",
    "    elif keyin > target:\n",
    "        print(f\"你猜錯了, 數字要小一點\")\n",
    "        max = keyin - 1\n",
    "    elif keyin < target:\n",
    "        print(f\"你猜錯了, 數字要大一點\")\n",
    "        min = keyin + 1\n",
    "    print(f\"你已經猜了{count}次\") \n",
    "    again = pyip.inputYesNo(\"還要繼續玩遊戲嗎?(Y/N)\")\n",
    "    if again == 'no':\n",
    "        break    \n",
    "\n",
    "print(\"遊戲結束\")\n",
    "    "
   ]
  },
  {
   "cell_type": "code",
   "execution_count": null,
   "metadata": {},
   "outputs": [],
   "source": []
  }
 ],
 "metadata": {
  "kernelspec": {
   "display_name": "Python 3",
   "language": "python",
   "name": "python3"
  },
  "language_info": {
   "codemirror_mode": {
    "name": "ipython",
    "version": 3
   },
   "file_extension": ".py",
   "mimetype": "text/x-python",
   "name": "python",
   "nbconvert_exporter": "python",
   "pygments_lexer": "ipython3",
   "version": "3.10.14"
  }
 },
 "nbformat": 4,
 "nbformat_minor": 2
}
